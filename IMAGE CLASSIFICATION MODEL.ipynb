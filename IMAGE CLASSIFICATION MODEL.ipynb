{
 "cells": [
  {
   "cell_type": "markdown",
   "metadata": {},
   "source": [
    "# TASK-3"
   ]
  },
  {
   "cell_type": "code",
   "execution_count": 55,
   "metadata": {},
   "outputs": [],
   "source": [
    "#import required libraries\n",
    "import numpy as np\n",
    "import pandas as pd\n",
    "import matplotlib.pyplot as plt\n",
    "import seaborn as sns\n",
    "import tensorflow as tf\n",
    "from sklearn.model_selection import train_test_split\n",
    "from tensorflow.keras.models import Sequential\n",
    "from tensorflow.keras.layers import Conv2D, MaxPooling2D, Flatten, Dense, Dropout\n",
    "from tensorflow.keras.utils import to_categorical\n",
    "from sklearn.metrics import classification_report, confusion_matrix"
   ]
  },
  {
   "cell_type": "code",
   "execution_count": 56,
   "metadata": {},
   "outputs": [
    {
     "data": {
      "text/html": [
       "<div>\n",
       "<style scoped>\n",
       "    .dataframe tbody tr th:only-of-type {\n",
       "        vertical-align: middle;\n",
       "    }\n",
       "\n",
       "    .dataframe tbody tr th {\n",
       "        vertical-align: top;\n",
       "    }\n",
       "\n",
       "    .dataframe thead th {\n",
       "        text-align: right;\n",
       "    }\n",
       "</style>\n",
       "<table border=\"1\" class=\"dataframe\">\n",
       "  <thead>\n",
       "    <tr style=\"text-align: right;\">\n",
       "      <th></th>\n",
       "      <th>Image_ID</th>\n",
       "      <th>File_Name</th>\n",
       "      <th>Width</th>\n",
       "      <th>Height</th>\n",
       "      <th>Color_Mode</th>\n",
       "      <th>Object_Class</th>\n",
       "      <th>Label</th>\n",
       "      <th>Source</th>\n",
       "      <th>Annotated_By</th>\n",
       "      <th>Date_Created</th>\n",
       "      <th>Is_Augmented</th>\n",
       "    </tr>\n",
       "  </thead>\n",
       "  <tbody>\n",
       "    <tr>\n",
       "      <th>0</th>\n",
       "      <td>IMG_0001</td>\n",
       "      <td>image_0001.jpg</td>\n",
       "      <td>50</td>\n",
       "      <td>158</td>\n",
       "      <td>Grayscale</td>\n",
       "      <td>Cat</td>\n",
       "      <td>1</td>\n",
       "      <td>Camera</td>\n",
       "      <td>Auto</td>\n",
       "      <td>2024-01-01</td>\n",
       "      <td>No</td>\n",
       "    </tr>\n",
       "    <tr>\n",
       "      <th>1</th>\n",
       "      <td>IMG_0002</td>\n",
       "      <td>image_0002.jpg</td>\n",
       "      <td>230</td>\n",
       "      <td>35</td>\n",
       "      <td>Grayscale</td>\n",
       "      <td>Horse</td>\n",
       "      <td>6</td>\n",
       "      <td>Dataset</td>\n",
       "      <td>Expert</td>\n",
       "      <td>2024-01-02</td>\n",
       "      <td>No</td>\n",
       "    </tr>\n",
       "    <tr>\n",
       "      <th>2</th>\n",
       "      <td>IMG_0003</td>\n",
       "      <td>image_0003.jpg</td>\n",
       "      <td>108</td>\n",
       "      <td>193</td>\n",
       "      <td>Grayscale</td>\n",
       "      <td>Car</td>\n",
       "      <td>4</td>\n",
       "      <td>Camera</td>\n",
       "      <td>Ashritha</td>\n",
       "      <td>2024-01-03</td>\n",
       "      <td>Yes</td>\n",
       "    </tr>\n",
       "    <tr>\n",
       "      <th>3</th>\n",
       "      <td>IMG_0004</td>\n",
       "      <td>image_0004.jpg</td>\n",
       "      <td>258</td>\n",
       "      <td>99</td>\n",
       "      <td>RGB</td>\n",
       "      <td>Bird</td>\n",
       "      <td>4</td>\n",
       "      <td>Web</td>\n",
       "      <td>Auto</td>\n",
       "      <td>2024-01-04</td>\n",
       "      <td>Yes</td>\n",
       "    </tr>\n",
       "    <tr>\n",
       "      <th>4</th>\n",
       "      <td>IMG_0005</td>\n",
       "      <td>image_0005.jpg</td>\n",
       "      <td>285</td>\n",
       "      <td>288</td>\n",
       "      <td>Grayscale</td>\n",
       "      <td>Horse</td>\n",
       "      <td>6</td>\n",
       "      <td>Camera</td>\n",
       "      <td>Ashritha</td>\n",
       "      <td>2024-01-05</td>\n",
       "      <td>Yes</td>\n",
       "    </tr>\n",
       "    <tr>\n",
       "      <th>...</th>\n",
       "      <td>...</td>\n",
       "      <td>...</td>\n",
       "      <td>...</td>\n",
       "      <td>...</td>\n",
       "      <td>...</td>\n",
       "      <td>...</td>\n",
       "      <td>...</td>\n",
       "      <td>...</td>\n",
       "      <td>...</td>\n",
       "      <td>...</td>\n",
       "      <td>...</td>\n",
       "    </tr>\n",
       "    <tr>\n",
       "      <th>145</th>\n",
       "      <td>IMG_0146</td>\n",
       "      <td>image_0146.jpg</td>\n",
       "      <td>90</td>\n",
       "      <td>103</td>\n",
       "      <td>Grayscale</td>\n",
       "      <td>Car</td>\n",
       "      <td>2</td>\n",
       "      <td>Dataset</td>\n",
       "      <td>Team1</td>\n",
       "      <td>2024-05-25</td>\n",
       "      <td>Yes</td>\n",
       "    </tr>\n",
       "    <tr>\n",
       "      <th>146</th>\n",
       "      <td>IMG_0147</td>\n",
       "      <td>image_0147.jpg</td>\n",
       "      <td>229</td>\n",
       "      <td>39</td>\n",
       "      <td>Grayscale</td>\n",
       "      <td>Horse</td>\n",
       "      <td>2</td>\n",
       "      <td>Camera</td>\n",
       "      <td>Expert</td>\n",
       "      <td>2024-05-26</td>\n",
       "      <td>Yes</td>\n",
       "    </tr>\n",
       "    <tr>\n",
       "      <th>147</th>\n",
       "      <td>IMG_0148</td>\n",
       "      <td>image_0148.jpg</td>\n",
       "      <td>145</td>\n",
       "      <td>60</td>\n",
       "      <td>Grayscale</td>\n",
       "      <td>Plane</td>\n",
       "      <td>6</td>\n",
       "      <td>Web</td>\n",
       "      <td>Auto</td>\n",
       "      <td>2024-05-27</td>\n",
       "      <td>Yes</td>\n",
       "    </tr>\n",
       "    <tr>\n",
       "      <th>148</th>\n",
       "      <td>IMG_0149</td>\n",
       "      <td>image_0149.jpg</td>\n",
       "      <td>276</td>\n",
       "      <td>205</td>\n",
       "      <td>RGB</td>\n",
       "      <td>Dog</td>\n",
       "      <td>2</td>\n",
       "      <td>Dataset</td>\n",
       "      <td>Ashritha</td>\n",
       "      <td>2024-05-28</td>\n",
       "      <td>Yes</td>\n",
       "    </tr>\n",
       "    <tr>\n",
       "      <th>149</th>\n",
       "      <td>IMG_0150</td>\n",
       "      <td>image_0150.jpg</td>\n",
       "      <td>144</td>\n",
       "      <td>192</td>\n",
       "      <td>RGB</td>\n",
       "      <td>Truck</td>\n",
       "      <td>6</td>\n",
       "      <td>Camera</td>\n",
       "      <td>Team1</td>\n",
       "      <td>2024-05-29</td>\n",
       "      <td>Yes</td>\n",
       "    </tr>\n",
       "  </tbody>\n",
       "</table>\n",
       "<p>150 rows × 11 columns</p>\n",
       "</div>"
      ],
      "text/plain": [
       "     Image_ID       File_Name  Width  Height Color_Mode Object_Class  Label  \\\n",
       "0    IMG_0001  image_0001.jpg     50     158  Grayscale          Cat      1   \n",
       "1    IMG_0002  image_0002.jpg    230      35  Grayscale        Horse      6   \n",
       "2    IMG_0003  image_0003.jpg    108     193  Grayscale          Car      4   \n",
       "3    IMG_0004  image_0004.jpg    258      99        RGB         Bird      4   \n",
       "4    IMG_0005  image_0005.jpg    285     288  Grayscale        Horse      6   \n",
       "..        ...             ...    ...     ...        ...          ...    ...   \n",
       "145  IMG_0146  image_0146.jpg     90     103  Grayscale          Car      2   \n",
       "146  IMG_0147  image_0147.jpg    229      39  Grayscale        Horse      2   \n",
       "147  IMG_0148  image_0148.jpg    145      60  Grayscale        Plane      6   \n",
       "148  IMG_0149  image_0149.jpg    276     205        RGB          Dog      2   \n",
       "149  IMG_0150  image_0150.jpg    144     192        RGB        Truck      6   \n",
       "\n",
       "      Source Annotated_By Date_Created Is_Augmented  \n",
       "0     Camera         Auto   2024-01-01           No  \n",
       "1    Dataset       Expert   2024-01-02           No  \n",
       "2     Camera     Ashritha   2024-01-03          Yes  \n",
       "3        Web         Auto   2024-01-04          Yes  \n",
       "4     Camera     Ashritha   2024-01-05          Yes  \n",
       "..       ...          ...          ...          ...  \n",
       "145  Dataset        Team1   2024-05-25          Yes  \n",
       "146   Camera       Expert   2024-05-26          Yes  \n",
       "147      Web         Auto   2024-05-27          Yes  \n",
       "148  Dataset     Ashritha   2024-05-28          Yes  \n",
       "149   Camera        Team1   2024-05-29          Yes  \n",
       "\n",
       "[150 rows x 11 columns]"
      ]
     },
     "execution_count": 56,
     "metadata": {},
     "output_type": "execute_result"
    }
   ],
   "source": [
    "#Load the Dataset\n",
    "df=pd.read_csv(\"image_dataset.csv\")\n",
    "df"
   ]
  },
  {
   "cell_type": "code",
   "execution_count": 57,
   "metadata": {},
   "outputs": [
    {
     "data": {
      "text/html": [
       "<div>\n",
       "<style scoped>\n",
       "    .dataframe tbody tr th:only-of-type {\n",
       "        vertical-align: middle;\n",
       "    }\n",
       "\n",
       "    .dataframe tbody tr th {\n",
       "        vertical-align: top;\n",
       "    }\n",
       "\n",
       "    .dataframe thead th {\n",
       "        text-align: right;\n",
       "    }\n",
       "</style>\n",
       "<table border=\"1\" class=\"dataframe\">\n",
       "  <thead>\n",
       "    <tr style=\"text-align: right;\">\n",
       "      <th></th>\n",
       "      <th>Image_ID</th>\n",
       "      <th>File_Name</th>\n",
       "      <th>Width</th>\n",
       "      <th>Height</th>\n",
       "      <th>Color_Mode</th>\n",
       "      <th>Object_Class</th>\n",
       "      <th>Label</th>\n",
       "      <th>Source</th>\n",
       "      <th>Annotated_By</th>\n",
       "      <th>Date_Created</th>\n",
       "      <th>Is_Augmented</th>\n",
       "    </tr>\n",
       "  </thead>\n",
       "  <tbody>\n",
       "    <tr>\n",
       "      <th>0</th>\n",
       "      <td>IMG_0001</td>\n",
       "      <td>image_0001.jpg</td>\n",
       "      <td>50</td>\n",
       "      <td>158</td>\n",
       "      <td>Grayscale</td>\n",
       "      <td>Cat</td>\n",
       "      <td>1</td>\n",
       "      <td>Camera</td>\n",
       "      <td>Auto</td>\n",
       "      <td>2024-01-01</td>\n",
       "      <td>No</td>\n",
       "    </tr>\n",
       "    <tr>\n",
       "      <th>1</th>\n",
       "      <td>IMG_0002</td>\n",
       "      <td>image_0002.jpg</td>\n",
       "      <td>230</td>\n",
       "      <td>35</td>\n",
       "      <td>Grayscale</td>\n",
       "      <td>Horse</td>\n",
       "      <td>6</td>\n",
       "      <td>Dataset</td>\n",
       "      <td>Expert</td>\n",
       "      <td>2024-01-02</td>\n",
       "      <td>No</td>\n",
       "    </tr>\n",
       "    <tr>\n",
       "      <th>2</th>\n",
       "      <td>IMG_0003</td>\n",
       "      <td>image_0003.jpg</td>\n",
       "      <td>108</td>\n",
       "      <td>193</td>\n",
       "      <td>Grayscale</td>\n",
       "      <td>Car</td>\n",
       "      <td>4</td>\n",
       "      <td>Camera</td>\n",
       "      <td>Ashritha</td>\n",
       "      <td>2024-01-03</td>\n",
       "      <td>Yes</td>\n",
       "    </tr>\n",
       "    <tr>\n",
       "      <th>3</th>\n",
       "      <td>IMG_0004</td>\n",
       "      <td>image_0004.jpg</td>\n",
       "      <td>258</td>\n",
       "      <td>99</td>\n",
       "      <td>RGB</td>\n",
       "      <td>Bird</td>\n",
       "      <td>4</td>\n",
       "      <td>Web</td>\n",
       "      <td>Auto</td>\n",
       "      <td>2024-01-04</td>\n",
       "      <td>Yes</td>\n",
       "    </tr>\n",
       "    <tr>\n",
       "      <th>4</th>\n",
       "      <td>IMG_0005</td>\n",
       "      <td>image_0005.jpg</td>\n",
       "      <td>285</td>\n",
       "      <td>288</td>\n",
       "      <td>Grayscale</td>\n",
       "      <td>Horse</td>\n",
       "      <td>6</td>\n",
       "      <td>Camera</td>\n",
       "      <td>Ashritha</td>\n",
       "      <td>2024-01-05</td>\n",
       "      <td>Yes</td>\n",
       "    </tr>\n",
       "  </tbody>\n",
       "</table>\n",
       "</div>"
      ],
      "text/plain": [
       "   Image_ID       File_Name  Width  Height Color_Mode Object_Class  Label  \\\n",
       "0  IMG_0001  image_0001.jpg     50     158  Grayscale          Cat      1   \n",
       "1  IMG_0002  image_0002.jpg    230      35  Grayscale        Horse      6   \n",
       "2  IMG_0003  image_0003.jpg    108     193  Grayscale          Car      4   \n",
       "3  IMG_0004  image_0004.jpg    258      99        RGB         Bird      4   \n",
       "4  IMG_0005  image_0005.jpg    285     288  Grayscale        Horse      6   \n",
       "\n",
       "    Source Annotated_By Date_Created Is_Augmented  \n",
       "0   Camera         Auto   2024-01-01           No  \n",
       "1  Dataset       Expert   2024-01-02           No  \n",
       "2   Camera     Ashritha   2024-01-03          Yes  \n",
       "3      Web         Auto   2024-01-04          Yes  \n",
       "4   Camera     Ashritha   2024-01-05          Yes  "
      ]
     },
     "execution_count": 57,
     "metadata": {},
     "output_type": "execute_result"
    }
   ],
   "source": [
    "#printing top 5 values\n",
    "df.head()"
   ]
  },
  {
   "cell_type": "code",
   "execution_count": 58,
   "metadata": {},
   "outputs": [
    {
     "name": "stdout",
     "output_type": "stream",
     "text": [
      "(150, 11)\n"
     ]
    }
   ],
   "source": [
    "#print shape of the dataset\n",
    "print(df.shape)"
   ]
  },
  {
   "cell_type": "code",
   "execution_count": 59,
   "metadata": {},
   "outputs": [
    {
     "name": "stdout",
     "output_type": "stream",
     "text": [
      "Image_ID        0\n",
      "File_Name       0\n",
      "Width           0\n",
      "Height          0\n",
      "Color_Mode      0\n",
      "Object_Class    0\n",
      "Label           0\n",
      "Source          0\n",
      "Annotated_By    0\n",
      "Date_Created    0\n",
      "Is_Augmented    0\n",
      "dtype: int64\n"
     ]
    }
   ],
   "source": [
    "#print how many null values in each columns\n",
    "print(df.isnull().sum())"
   ]
  },
  {
   "cell_type": "code",
   "execution_count": 60,
   "metadata": {},
   "outputs": [
    {
     "data": {
      "image/png": "[encoded data removed]",
      "text/plain": [
       "<Figure size 432x288 with 1 Axes>"
      ]
     },
     "metadata": {
      "needs_background": "light"
     },
     "output_type": "display_data"
    }
   ],
   "source": [
    "#Visualize the Data\n",
    "#class distribution\n",
    "sns.countplot(x='Object_Class', data=df)\n",
    "plt.title('Class Distribution')\n",
    "plt.xlabel('Class')\n",
    "plt.ylabel('Count')\n",
    "plt.xticks(rotation=45)\n",
    "plt.show()"
   ]
  },
  {
   "cell_type": "code",
   "execution_count": 61,
   "metadata": {},
   "outputs": [
    {
     "data": {
      "image/png": "[encoded data removed]",
      "text/plain": [
       "<Figure size 432x288 with 1 Axes>"
      ]
     },
     "metadata": {
      "needs_background": "light"
     },
     "output_type": "display_data"
    }
   ],
   "source": [
    "#Width vs Height Distribution\n",
    "sns.scatterplot(x='Width', y='Height', hue='Color_Mode', data=df)\n",
    "plt.title('Image Size Distribution by Color Mode')\n",
    "plt.show()"
   ]
  },
  {
   "cell_type": "code",
   "execution_count": 62,
   "metadata": {},
   "outputs": [],
   "source": [
    "#Prepare Features (X) and Labels (y)\n",
    "# Simulate RGB images of size 32x32\n",
    "X = np.random.rand(150, 32, 32, 3)\n",
    "\n",
    "# Labels\n",
    "y = df['Label'].values\n",
    "\n",
    "# One-hot encode labels\n",
    "y_cat = to_categorical(y, num_classes=7)\n"
   ]
  },
  {
   "cell_type": "code",
   "execution_count": 63,
   "metadata": {},
   "outputs": [
    {
     "name": "stdout",
     "output_type": "stream",
     "text": [
      "(120, 32, 32, 3)\n",
      "(120, 7)\n",
      "(30, 32, 32, 3)\n",
      "(30, 7)\n"
     ]
    }
   ],
   "source": [
    "#split X_train,y_train,X_test,y_test and print there shape\n",
    "X_train, X_test, y_train, y_test = train_test_split(X, y_cat, test_size=0.2, random_state=42)\n",
    "print(X_train.shape)\n",
    "print(y_train.shape)\n",
    "print(X_test.shape)\n",
    "print(y_test.shape)"
   ]
  },
  {
   "cell_type": "code",
   "execution_count": 64,
   "metadata": {},
   "outputs": [],
   "source": [
    "#Building the CNN Model\n",
    "model = Sequential([\n",
    "    Conv2D(32, (3,3), activation='relu', input_shape=(32,32,3)),\n",
    "    MaxPooling2D(pool_size=(2,2)),\n",
    "    Conv2D(64, (3,3), activation='relu'),\n",
    "    MaxPooling2D(pool_size=(2,2)),\n",
    "    Flatten(),\n",
    "    Dense(128, activation='relu'),\n",
    "    Dropout(0.5),\n",
    "    Dense(7, activation='softmax')  # 7 output classes\n",
    "])\n"
   ]
  },
  {
   "cell_type": "code",
   "execution_count": 65,
   "metadata": {},
   "outputs": [],
   "source": [
    "#Compile the model\n",
    "model.compile(optimizer='adam', loss='categorical_crossentropy', metrics=['accuracy'])\n"
   ]
  },
  {
   "cell_type": "code",
   "execution_count": 66,
   "metadata": {},
   "outputs": [
    {
     "name": "stdout",
     "output_type": "stream",
     "text": [
      "Epoch 1/10\n",
      "6/6 [==============================] - 1s 35ms/step - loss: 2.0747 - accuracy: 0.1354 - val_loss: 1.9685 - val_accuracy: 0.1250\n",
      "Epoch 2/10\n",
      "6/6 [==============================] - 0s 14ms/step - loss: 1.9354 - accuracy: 0.1562 - val_loss: 1.9616 - val_accuracy: 0.0833\n",
      "Epoch 3/10\n",
      "6/6 [==============================] - 0s 17ms/step - loss: 1.9369 - accuracy: 0.1562 - val_loss: 1.9614 - val_accuracy: 0.0833\n",
      "Epoch 4/10\n",
      "6/6 [==============================] - 0s 16ms/step - loss: 1.9357 - accuracy: 0.1042 - val_loss: 1.9685 - val_accuracy: 0.2083\n",
      "Epoch 5/10\n",
      "6/6 [==============================] - 0s 17ms/step - loss: 1.9217 - accuracy: 0.1771 - val_loss: 1.9732 - val_accuracy: 0.2083\n",
      "Epoch 6/10\n",
      "6/6 [==============================] - 0s 15ms/step - loss: 1.9178 - accuracy: 0.2083 - val_loss: 1.9874 - val_accuracy: 0.0833\n",
      "Epoch 7/10\n",
      "6/6 [==============================] - 0s 17ms/step - loss: 1.9035 - accuracy: 0.2083 - val_loss: 2.0049 - val_accuracy: 0.1250\n",
      "Epoch 8/10\n",
      "6/6 [==============================] - 0s 15ms/step - loss: 1.9043 - accuracy: 0.1458 - val_loss: 1.9930 - val_accuracy: 0.0833\n",
      "Epoch 9/10\n",
      "6/6 [==============================] - 0s 19ms/step - loss: 1.8765 - accuracy: 0.2812 - val_loss: 2.0080 - val_accuracy: 0.1250\n",
      "Epoch 10/10\n",
      "6/6 [==============================] - 0s 16ms/step - loss: 1.8336 - accuracy: 0.2708 - val_loss: 2.0744 - val_accuracy: 0.0833\n"
     ]
    }
   ],
   "source": [
    "#train the model\n",
    "history = model.fit(X_train, y_train, epochs=10, batch_size=16, validation_split=0.2)"
   ]
  },
  {
   "cell_type": "code",
   "execution_count": 67,
   "metadata": {},
   "outputs": [
    {
     "data": {
      "image/png": "[encoded data removed]",
      "text/plain": [
       "<Figure size 432x288 with 1 Axes>"
      ]
     },
     "metadata": {
      "needs_background": "light"
     },
     "output_type": "display_data"
    },
    {
     "data": {
      "image/png": "[encoded data removed]",
      "text/plain": [
       "<Figure size 432x288 with 1 Axes>"
      ]
     },
     "metadata": {
      "needs_background": "light"
     },
     "output_type": "display_data"
    }
   ],
   "source": [
    "#Visualize Accuracy & Loss\n",
    "# Accuracy plot\n",
    "plt.plot(history.history['accuracy'], label='Train Accuracy')\n",
    "plt.plot(history.history['val_accuracy'], label='Val Accuracy')\n",
    "plt.title('Model Accuracy')\n",
    "plt.xlabel('Epoch')\n",
    "plt.ylabel('Accuracy')\n",
    "plt.legend()\n",
    "plt.grid(True)\n",
    "plt.show()\n",
    "\n",
    "# Loss plot\n",
    "plt.plot(history.history['loss'], label='Train Loss')\n",
    "plt.plot(history.history['val_loss'], label='Val Loss')\n",
    "plt.title('Model Loss')\n",
    "plt.xlabel('Epoch')\n",
    "plt.ylabel('Loss')\n",
    "plt.legend()\n",
    "plt.grid(True)\n",
    "plt.show()"
   ]
  },
  {
   "cell_type": "code",
   "execution_count": 68,
   "metadata": {},
   "outputs": [
    {
     "name": "stdout",
     "output_type": "stream",
     "text": [
      "1/1 [==============================] - 0s 65ms/step\n",
      "Classification Report:\n",
      "\n",
      "              precision    recall  f1-score   support\n",
      "\n",
      "           0       0.00      0.00      0.00         4\n",
      "           1       0.00      0.00      0.00         4\n",
      "           2       0.00      0.00      0.00         2\n",
      "           3       0.17      1.00      0.29         5\n",
      "           4       0.00      0.00      0.00         6\n",
      "           5       0.00      0.00      0.00         5\n",
      "           6       0.00      0.00      0.00         4\n",
      "\n",
      "    accuracy                           0.17        30\n",
      "   macro avg       0.02      0.14      0.04        30\n",
      "weighted avg       0.03      0.17      0.05        30\n",
      "\n"
     ]
    },
    {
     "data": {
      "image/png": "[encoded data removed]",
      "text/plain": [
       "<Figure size 432x288 with 2 Axes>"
      ]
     },
     "metadata": {
      "needs_background": "light"
     },
     "output_type": "display_data"
    }
   ],
   "source": [
    "# Predict class labels\n",
    "y_pred = model.predict(X_test)\n",
    "y_pred_classes = np.argmax(y_pred, axis=1)  # predicted class indices\n",
    "y_true = np.argmax(y_test, axis=1)          # true class indices\n",
    "\n",
    "# Classification report\n",
    "print(\"Classification Report:\\n\")\n",
    "print(classification_report(y_true, y_pred_classes, zero_division=0))\n",
    "\n",
    "# Confusion Matrix\n",
    "cm = confusion_matrix(y_true, y_pred_classes)\n",
    "plt.figure(figsize=(6, 4))\n",
    "sns.heatmap(cm, annot=True, fmt='d', cmap='Blues')\n",
    "plt.title('Confusion Matrix')\n",
    "plt.xlabel('Predicted Label')\n",
    "plt.ylabel('True Label')\n",
    "plt.show()\n",
    "\n"
   ]
  },
  {
   "cell_type": "code",
   "execution_count": 69,
   "metadata": {},
   "outputs": [
    {
     "name": "stdout",
     "output_type": "stream",
     "text": [
      "Precision: 0.02\n",
      "Recall: 0.14\n",
      "F1 Score: 0.04\n"
     ]
    }
   ],
   "source": [
    "from sklearn.metrics import precision_score, recall_score, f1_score\n",
    "\n",
    "# Macro averages (suitable when classes are imbalanced)\n",
    "precision = precision_score(y_true, y_pred_classes, average='macro', zero_division=0)\n",
    "recall = recall_score(y_true, y_pred_classes, average='macro', zero_division=0)\n",
    "f1 = f1_score(y_true, y_pred_classes, average='macro', zero_division=0)\n",
    "\n",
    "print(f\"Precision: {precision:.2f}\")\n",
    "print(f\"Recall: {recall:.2f}\")\n",
    "print(f\"F1 Score: {f1:.2f}\")\n"
   ]
  },
  {
   "cell_type": "code",
   "execution_count": null,
   "metadata": {},
   "outputs": [],
   "source": []
  },
  {
   "cell_type": "code",
   "execution_count": null,
   "metadata": {},
   "outputs": [],
   "source": []
  },
  {
   "cell_type": "code",
   "execution_count": null,
   "metadata": {},
   "outputs": [],
   "source": []
  },
  {
   "cell_type": "code",
   "execution_count": null,
   "metadata": {},
   "outputs": [],
   "source": []
  }
 ],
 "metadata": {
  "kernelspec": {
   "display_name": "Python 3",
   "language": "python",
   "name": "python3"
  },
  "language_info": {
   "codemirror_mode": {
    "name": "ipython",
    "version": 3
   },
   "file_extension": ".py",
   "mimetype": "text/x-python",
   "name": "python",
   "nbconvert_exporter": "python",
   "pygments_lexer": "ipython3",
   "version": "3.8.10"
  }
 },
 "nbformat": 4,
 "nbformat_minor": 4
}
